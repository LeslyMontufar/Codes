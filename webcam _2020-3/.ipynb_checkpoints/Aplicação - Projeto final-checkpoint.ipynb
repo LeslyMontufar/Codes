{
 "cells": [
  {
   "cell_type": "code",
   "execution_count": 13,
   "metadata": {},
   "outputs": [],
   "source": [
    "import cv2\n",
    "import numpy as np\n",
    "import matplotlib.pyplot as plt\n",
    "from ipywidgets import interact, fixed"
   ]
  },
  {
   "cell_type": "code",
   "execution_count": 14,
   "metadata": {},
   "outputs": [],
   "source": [
    "def convolve(im, omega, fft=False):\n",
    "    M, N = im.shape\n",
    "    A, B = omega.shape\n",
    "    a, b = A//2, B//2 # núcleo com dimensões ímpares\n",
    "    if not fft:\n",
    "        f = np.array(im, dtype=float)\n",
    "        g = np.zeros_like(f, dtype=float)\n",
    "        for x in range(M):\n",
    "            for y in range(N):\n",
    "                aux = 0.0\n",
    "                for dx in range(-a, a+1):\n",
    "                    for dy in range(-b, b+1):\n",
    "                        if 0 <= x+dx < M and 0 <= y+dy < N: # ou você pode usar \"zero pad\" na imagem\n",
    "                            aux += omega[a-dx, b-dy]*f[x+dx, y+dy]\n",
    "                g[x, y] = aux\n",
    "        return g\n",
    "    else:\n",
    "        im = np.pad(im, ((0,1), (0,1))) # zero pad últimas linha e coluna\n",
    "        spi = np.fft.fft2(im)\n",
    "        spf = np.fft.fft2(omega, s=im.shape)\n",
    "        g = spi*spf\n",
    "        f = np.fft.ifft2(g)\n",
    "        return np.real(f)[1:,1:] # elimina as primeiras linha e coluna"
   ]
  },
  {
   "cell_type": "code",
   "execution_count": 15,
   "metadata": {},
   "outputs": [
    {
     "name": "stdout",
     "output_type": "stream",
     "text": [
      "identity 1.0\n",
      "edge detection 0.0\n",
      "laplacian 0.0\n",
      "laplacian w/ diagonals 0.0\n",
      "laplacian of gaussian 0.0\n",
      "scharr 0.0\n",
      "sobel edge horizontal 0.0\n",
      "sobel edge vertical 0.0\n",
      "line detection horizontal 0.0\n",
      "line detection vertical 0.0\n",
      "line detection 45° 0.0\n",
      "line detection 135° 0.0\n",
      "box blur 1.0\n",
      "gaussian blur 3x3 1.0\n",
      "gaussian blur 5x5 1.0\n",
      "sharpen 1.0\n",
      "unsharp masking 1.0\n"
     ]
    }
   ],
   "source": [
    "kernel = {\n",
    "    'identity': np.array([[0,0,0],[0,1,0],[0,0,0]], dtype=float),\n",
    "    'edge detection': np.array([[1,0,-1],[0,0,0],[-1,0,1]], dtype=float),\n",
    "    'laplacian': np.array([[0,-1,0],[-1,4,-1],[0,-1,0]], dtype=float),\n",
    "    'laplacian w/ diagonals': np.array([[-1,-1,-1],[-1,8,-1],[-1,-1,-1]], dtype=float),\n",
    "    'laplacian of gaussian': np.array([[0,0,-1,0,0],[0,-1,-2,-1,0],[-1,-2,16,-2,-1],[0,-1,-2,-1,0],[0,0,-1,0,0]], dtype=float),\n",
    "    'scharr': np.array([[-3, 0, 3],[-10,0,10],[-3, 0, 3]], dtype=float),\n",
    "    'sobel edge horizontal': np.array([[-1,-2,-1],[0,0,0],[1,2,1]], dtype=float),\n",
    "    'sobel edge vertical': np.array([[-1,0,1],[-2,0,2],[-1,0,1]], dtype=float),\n",
    "    'line detection horizontal': np.array([[-1,-1,-1],[2,2,2],[-1,-1,-1]], dtype=float),\n",
    "    'line detection vertical': np.array([[-1,2,-1],[-1,2,-1],[-1,2,-1]], dtype=float),\n",
    "    'line detection 45°': np.array([[-1,-1,2],[-1,2,-1],[2,-1,-1]], dtype=float),\n",
    "    'line detection 135°': np.array([[2,-1,-1],[-1,2,-1],[-1,-1,2]], dtype=float),\n",
    "    'box blur': (1/9)*np.ones((3,3), dtype=float),\n",
    "    'gaussian blur 3x3': (1/16)*np.array([[1,2,1],[2,4,2],[1,2,1]], dtype=float),\n",
    "    'gaussian blur 5x5': (1/256)*np.array([[1,4,6,4,1],[4,16,24,16,4],[6,24,36,24,6],[4,16,24,16,4],[1,4,6,4,1]], dtype=float),\n",
    "    'sharpen': np.array([[0,-1,0],[-1,5,-1],[0,-1,0]], dtype=float),\n",
    "    'unsharp masking': (-1/256)*np.array([[1,4,6,4,1],[4,16,24,16,4],[6,24,-476,24,6],[4,16,24,16,4],[1,4,6,4,1]], dtype=float),\n",
    "}\n",
    "for k,v in kernel.items():\n",
    "    print(k, np.sum(v))"
   ]
  },
  {
   "cell_type": "code",
   "execution_count": 16,
   "metadata": {},
   "outputs": [],
   "source": [
    "import cv2\n",
    "# Cria um objeto de captura de vídeo\n",
    "# (lê de arquivo ou, com argumento 0, captura da webcam)\n",
    "cap = cv2.VideoCapture(0)#'suporte/cafe.mp4')\n",
    "# Checa se a camera estiver aberta, \n",
    "if (cap.isOpened()== False): \n",
    "    print(\"Error opening video stream or file\")\n",
    "# Lê o fluxo de video (stream)\n",
    "while(cap.isOpened()):\n",
    "    # Captura quadro-a-quadro\n",
    "    ret, frame = cap.read()\n",
    "    if ret == True:\n",
    "        # Faça as operações desejadas com a imagem em `frame`\n",
    "        # Por exemplo, converta-a em tons de cinza:\n",
    "        gray = cv2.cvtColor(frame, cv2.COLOR_BGR2GRAY)\n",
    "        # E borre a imagem um pouco:\n",
    "        conv = np.uint8(np.round(convolve(gray, kernel['laplacian of gaussian'], fft=True)))\n",
    "        # Mostre a imagem resultante no próximo quadro\n",
    "        cv2.imshow('Frame', conv)\n",
    "        # Ao pressionar Q no teclado, o programa encerra\n",
    "        if cv2.waitKey(25) & 0xFF == ord('q'):\n",
    "            break\n",
    "    # Se não houver conexão, encerra\n",
    "    else: \n",
    "        break\n",
    "# Quando tudo estiver encerrado, libera o objeto de captura de vídeo\n",
    "cap.release()\n",
    "# Fecha todas as janelas abertas\n",
    "cv2.destroyAllWindows()"
   ]
  },
  {
   "cell_type": "code",
   "execution_count": null,
   "metadata": {},
   "outputs": [],
   "source": [
    "from tkinter import *\n",
    "\n",
    "janela = Tk()\n",
    "bt = Button(janela, width=20, text=\"webcam\")\n",
    "bt.place(x=80, y=100)\n",
    "\n",
    "lb = Label(janela, text=\"Teste\")\n",
    "lb.place(x=100, y=150)\n",
    "\n",
    "\n",
    "janela.geometry(\"300x300+200+200\")\n",
    "janela.mainloop()"
   ]
  },
  {
   "cell_type": "code",
   "execution_count": null,
   "metadata": {},
   "outputs": [],
   "source": []
  }
 ],
 "metadata": {
  "kernelspec": {
   "display_name": "Python 3.8.3 64-bit",
   "language": "python",
   "name": "python38364bita8e54374109947e29a8124b7a64770fd"
  },
  "language_info": {
   "codemirror_mode": {
    "name": "ipython",
    "version": 3
   },
   "file_extension": ".py",
   "mimetype": "text/x-python",
   "name": "python",
   "nbconvert_exporter": "python",
   "pygments_lexer": "ipython3",
   "version": "3.8.3"
  }
 },
 "nbformat": 4,
 "nbformat_minor": 4
}
